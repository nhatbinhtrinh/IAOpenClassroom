{
 "cells": [
  {
   "cell_type": "markdown",
   "metadata": {},
   "source": [
    "# Project 1: Découvrez le métier d’Ingénieur IA "
   ]
  },
  {
   "cell_type": "markdown",
   "metadata": {},
   "source": [
    "## Connect to Auzure translator service"
   ]
  },
  {
   "cell_type": "code",
   "execution_count": 1,
   "metadata": {},
   "outputs": [],
   "source": [
    "import requests, uuid, json, random\n",
    "from dotenv import load_dotenv\n",
    "import os\n",
    "\n",
    "load_dotenv() \n",
    "# Subscription key \n",
    "subscription_key =  os.getenv(\"SUBSCRIPTION_KEY\")\n",
    "# Endpoint\n",
    "endpoint = os.getenv(\"END_POINT\")\n",
    "# Location\n",
    "location =os.getenv(\"LOCATION\")\n",
    "\n",
    "path = '/detect'\n",
    "\n",
    "constructed_url = endpoint + path\n",
    "\n",
    "params = {\n",
    "    'api-version' : '3.0'\n",
    "}\n",
    " \n",
    "headers = {\n",
    "    'Ocp-Apim-Subscription-Key': subscription_key,\n",
    "    'Ocp-Apim-Subscription-Region': location,\n",
    "    'Content-type': 'application/json',\n",
    "    'X-ClientTraceId': str(uuid.uuid4())\n",
    "}\n",
    "#------Define functions------#\n",
    "def random_line(fname):\n",
    "    '''\n",
    "     to get randomly a line in the text file with name fname\n",
    "    '''\n",
    "    lines = open(fname,encoding = 'utf-8').read().splitlines()\n",
    "    return random.choice(lines)\n",
    "\n",
    "def myDectectLangF(sentence, opt = 'NotRandom'):   \n",
    "    '''\n",
    "        To detect the language of the input sentence\n",
    "        In the case of opt is 'Random', the input sentence now is choosen randomly from the given data.\n",
    "    '''\n",
    "    if(opt =='Random'):\n",
    "        sentence = random_line(\"./Data/x_test.txt\")\n",
    "        print(\"\\n **Sentence chosen randomly from data to send the service to detect language: \")\n",
    "        print(sentence)\n",
    "    # Create a body \n",
    "    body = [ {\"id1\" : \"1\", \"text\" : sentence}]\n",
    "    # Send request to the service to detect a language\n",
    "    request = requests.post(constructed_url, params=params, headers=headers, json=body)\n",
    "    response = request.json()\n",
    "    #print(json.dumps(response, sort_keys=False, ensure_ascii=False, indent=4, separators=(',', ': ')))\n",
    "    print(\"--->This sentence may be written in the language: \" + response[0][\"language\"])"
   ]
  },
  {
   "cell_type": "markdown",
   "metadata": {},
   "source": [
    "## Test language detect function"
   ]
  },
  {
   "cell_type": "code",
   "execution_count": 2,
   "metadata": {},
   "outputs": [
    {
     "name": "stdout",
     "output_type": "stream",
     "text": [
      "\n",
      " **Sentence chosen randomly from data to send the service to detect language: \n",
      "Ngaran sidin waktu halus Gusti Inu Kertapati. Abah sidin Pangéran Masohut bin Pangéran Amir bin Sultam Muhammad Aminullah. Uma sidin Gusti Hadijah binti Sultan Sulaiman. Sidin beisian ading nang bengaran Ratu Antasari/Ratu Sultan. Sidin beisian 8 anak binian lawan 3 anak lakian.\n",
      "--->This sentence may be written in the language: id\n",
      "\n",
      " **Sentence chosen randomly from data to send the service to detect language: \n",
      "Sipuati Airport är en flygplats i Bolivia. Den ligger i departementet Tarija, i den södra delen av landet, 300 km sydost om huvudstaden Sucre. Sipuati Airport ligger 570 meter över havet.\n",
      "--->This sentence may be written in the language: sv\n",
      "\n",
      " **Sentence chosen randomly from data to send the service to detect language: \n",
      "پاکو د لوسیا پنج ساله بود که پدرش اولین گیتار را به او هدیه داد. خودش هم به او نوازندگى گیتار را آموخت و پاکو را به دنیاى فلامنکو وارد کرد. پاکو د لوسیا در همان دوران کودکى روزى ده ساعت تمرین میکرد و جاى تعجب نیست که اولین کنسرتش را در سن یازده سالگى اجرا کرد .اما چهره برجسته در آموزش او پدرش آنتونیو سانچز بود. پورن نویسنده بیوگرافی پاکو میگوید :\n",
      "--->This sentence may be written in the language: fa\n",
      "\n",
      " **Sentence chosen randomly from data to send the service to detect language: \n",
      "Uteun Reutôh nakeuh gampông lam Keucamatan Kota Juang, Kabupatèn Bireuen, Acèh. Lumbôi gampông nyoe lam data peumeurèntah nakeuh 11.11.13.2021.\n",
      "--->This sentence may be written in the language: id\n",
      "\n",
      " **Sentence chosen randomly from data to send the service to detect language: \n",
      "Gerrit Schotte ta un polítiko Kurasoleño, èks minister-presidente i aktual lider di e partido Movementu Futuro Kòrsou, tambe konosí p'e abreviashon partido MFK. Dia 27 di ougùstùs 2010 partido MFK a bira e di dos partido mas grandi ku 5 asiento den Eilandsraad. Partido MFK a forma gobièrnu huntu ku Pueblo Soberano y Partido MAN dia 4 di sèptèmber 2010. E koalishon aki lo bira e promé gabinete di Kòrsou despues di desmantelashon di Antias Hulandes dia 10 di òktober 2010. Schotte anteriormente tabata e Promé Minister di Kòrsou i a asumí su trabou formalmente riba e fecha ei.\n",
      "--->This sentence may be written in the language: es\n"
     ]
    }
   ],
   "source": [
    "for i in range(1,6):\n",
    "    myDectectLangF(\"Bonjour\",opt = \"Random\")"
   ]
  }
 ],
 "metadata": {
  "kernelspec": {
   "display_name": "Python 3",
   "language": "python",
   "name": "python3"
  },
  "language_info": {
   "codemirror_mode": {
    "name": "ipython",
    "version": 3
   },
   "file_extension": ".py",
   "mimetype": "text/x-python",
   "name": "python",
   "nbconvert_exporter": "python",
   "pygments_lexer": "ipython3",
   "version": "3.7.0"
  }
 },
 "nbformat": 4,
 "nbformat_minor": 2
}
