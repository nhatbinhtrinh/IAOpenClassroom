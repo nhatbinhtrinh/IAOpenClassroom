{
 "cells": [
  {
   "cell_type": "markdown",
   "metadata": {},
   "source": [
    "# Project 1: Découvrez le métier d’Ingénieur IA "
   ]
  },
  {
   "cell_type": "markdown",
   "metadata": {},
   "source": [
    "## Connect to Auzure translator service"
   ]
  },
  {
   "cell_type": "code",
   "execution_count": 3,
   "metadata": {},
   "outputs": [],
   "source": [
    "#import library\n",
    "import requests, uuid, json\n",
    "# Subscription key \n",
    "subscription_key = \"\"\n",
    "# Endpoint\n",
    "endpoint = \"https://api.cognitive.microsofttranslator.com/\"\n",
    "# Location\n",
    "location = \"francecentral\"\n",
    "\n",
    "path = '/detect'\n",
    "constructed_url = endpoint + path\n",
    "\n",
    "params = {\n",
    "    'api-version': '2.0'\n",
    "}\n",
    "constructed_url = endpoint + path\n",
    "\n",
    "headers = {\n",
    "    'Ocp-Apim-Subscription-Key': subscription_key,\n",
    "    'Ocp-Apim-Subscription-Region': location,\n",
    "    'Content-type': 'application/json',\n",
    "    'X-ClientTraceId': str(uuid.uuid4())\n",
    "}"
   ]
  },
  {
   "cell_type": "markdown",
   "metadata": {},
   "source": [
    "## Send a resquest to the service"
   ]
  },
  {
   "cell_type": "code",
   "execution_count": 6,
   "metadata": {},
   "outputs": [
    {
     "name": "stdout",
     "output_type": "stream",
     "text": [
      "[\n",
      "    {\n",
      "        \"isTranslationSupported\": true,\n",
      "        \"isTransliterationSupported\": false,\n",
      "        \"language\": \"et\",\n",
      "        \"score\": 0.93\n",
      "    },\n",
      "    {\n",
      "        \"isTranslationSupported\": true,\n",
      "        \"isTransliterationSupported\": false,\n",
      "        \"language\": \"en\",\n",
      "        \"score\": 0.85\n",
      "    },\n",
      "    {\n",
      "        \"isTranslationSupported\": true,\n",
      "        \"isTransliterationSupported\": false,\n",
      "        \"language\": \"vi\",\n",
      "        \"score\": 0.97\n",
      "    },\n",
      "    {\n",
      "        \"isTranslationSupported\": true,\n",
      "        \"isTransliterationSupported\": false,\n",
      "        \"language\": \"fr\",\n",
      "        \"score\": 1.0\n",
      "    },\n",
      "    {\n",
      "        \"isTranslationSupported\": true,\n",
      "        \"isTransliterationSupported\": true,\n",
      "        \"language\": \"th\",\n",
      "        \"score\": 0.99\n",
      "    }\n",
      "]\n"
     ]
    }
   ],
   "source": [
    "# You can pass more than one object in body.\n",
    "body = [\n",
    "    {\"id1\":1, \"text\": \"Klement Gottwaldi surnukeha palsameeriti ning paigutati mausoleumi. Surnukeha oli aga liiga hilja ja oskamatult palsameeritud ning hakkas ilmutama lagunemise tundemärke. 1962. aastal viidi ta surnukeha mausoleumist ära ja kremeeriti. Zlíni linn kandis aastatel 1949–1989 nime Gottwaldov. Ukrainas Harkivi oblastis kandis Zmiivi linn aastatel 1976–1990 nime Gotvald.\"},\n",
    "    {\"id2\":2, \"text\": \"Sebes, Joseph; Pereira Thomas (1961) (på eng). The Jesuits and the Sino-Russian treaty of Nerchinsk (1689): the diary of Thomas Pereira. Bibliotheca Instituti historici S. I., 99-0105377-3 ; 18. Rome. Libris 677492\"},\n",
    "    {\"id3\":3, \"text\": \"Bùi Tiến Dũng (sinh năm 1959 tại huyện Ứng Hòa tỉnh Hà Tây nay là Hà Nội) hay Con bạc triệu đô (biệt danh do báo chí và giới truyền thông đặt) là tổng giám đốc PMU-18, nhân vật chính trong vụ tham nhũng PMU-18 gây chấn động dư luận Việt Nam trước Đại hội X Đảng Cộng sản Việt Nam.\"},\n",
    "    {\"id4\":4, \"text\": \"Association de recherche et de sauvegarde de l'histoire de Roissy-en-France (A.R.S.H.R.F.), Roissy-en-France 1900 / 2000, Mémoire d'un siècle, 2003 (voir dans la bibliographie)\"},\n",
    "    {\"id5\":5, \"text\": \"ถนนเจริญกรุง (อักษรโรมัน: Thanon Charoen Krung) เริ่มตั้งแต่ถนนสนามไชยถึงแม่น้ำเจ้าพระยาที่ถนนตก กรุงเทพมหานคร เป็นถนนรุ่นแรกที่ใช้เทคนิคการสร้างแบบตะวันตก ปัจจุบันผ่านพื้นที่เขตพระนคร เขตป้อมปราบศัตรูพ่าย เขตสัมพันธวงศ์ เขตบางรัก เขตสาทร และเขตบางคอแหลม\"},\n",
    "     ]\n",
    "\n",
    "request = requests.post(constructed_url, params=params, headers=headers, json=body)\n",
    "response = request.json()\n",
    "\n",
    "print(json.dumps(response, sort_keys=True, ensure_ascii=False, indent=4, separators=(',', ': ')))"
   ]
  },
  {
   "cell_type": "markdown",
   "metadata": {},
   "source": [
    "et : Estonian, en : English, vi : Vietnamese, fr : French, th : thai"
   ]
  },
  {
   "cell_type": "code",
   "execution_count": null,
   "metadata": {},
   "outputs": [],
   "source": []
  }
 ],
 "metadata": {
  "kernelspec": {
   "display_name": "Python 3",
   "language": "python",
   "name": "python3"
  },
  "language_info": {
   "codemirror_mode": {
    "name": "ipython",
    "version": 3
   },
   "file_extension": ".py",
   "mimetype": "text/x-python",
   "name": "python",
   "nbconvert_exporter": "python",
   "pygments_lexer": "ipython3",
   "version": "3.7.0"
  }
 },
 "nbformat": 4,
 "nbformat_minor": 2
}
