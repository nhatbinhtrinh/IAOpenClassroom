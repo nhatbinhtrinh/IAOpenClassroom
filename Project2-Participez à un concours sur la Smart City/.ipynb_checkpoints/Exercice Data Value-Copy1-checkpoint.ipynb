{
 "cells": [
  {
   "cell_type": "markdown",
   "metadata": {},
   "source": [
    "# Exercice Formation\n",
    "\n",
    "1. Télécharger le fichier arrondissements.geojson et le fichier p2-arbres-fr.csv.\n",
    "2. Installer un environnement virtuel avec anaconda, conda install -c conda-forge missingno -y, conda install -c conda-forge altair -y, conda install -c plotly plotly -y, conda install -c conda-forge folium -y, pip install vega\n",
    "3. Associer cet environnement à un kernel Jupyter python -m ipykernel install --user --name=dataval --display-name=\"DataValue\"\n",
    "4. Créer un dataframe à partir du fichier csv p2-arbres-fr\n",
    "5. Afficher la taille, un describe, un info, les données manquantes avec missingno et le % de données manquantes par colonnes\n",
    "6. Uniformiser la casse des caractères, enelever la ponctuation pour les chaines de caractères, \n",
    "7. Convertir à la même unité le diamètre et la hauteur des arbres (m), enlever la taille des arbres > 40 m et le diamètre supérieur > 30m\n",
    "8. Avec Plotly Express, tracer la taille des arbres en fonction du diamètre, couleur va être par espèce\n",
    "9. Faire un bar plot par arrondissement de la taille des arbres et pareil avec le diamètre\n",
    "10. Faire un pie chart avec plotly sur les espèces arbres (top 10)\n",
    "11. Faire un sunburst sur la hauteur des arbres, arrondissement et les top 10 des espèces (filtrer le jeu de données)\n",
    "12. Tracer des violinplots sur les distributions des diamètres et des hauteurs\n",
    "13. Tracer une carte choroplèthe sur la taille des arbres par arrondissement (folium)"
   ]
  },
  {
   "cell_type": "code",
   "execution_count": null,
   "metadata": {},
   "outputs": [],
   "source": [
    "import pandas as pd\n",
    "import numpy as np\n",
    "import seaborn as sns\n",
    "import missingno as msn\n",
    "import matplotlib.pyplot as plt\n",
    "import plotly.express as px\n",
    "import folium"
   ]
  },
  {
   "cell_type": "code",
   "execution_count": null,
   "metadata": {},
   "outputs": [],
   "source": [
    "arbres = pd.read_csv(\"data/p2-arbres-fr.csv\", sep=\";\")"
   ]
  },
  {
   "cell_type": "code",
   "execution_count": null,
   "metadata": {},
   "outputs": [],
   "source": [
    "arbres.head()"
   ]
  },
  {
   "cell_type": "code",
   "execution_count": null,
   "metadata": {},
   "outputs": [],
   "source": [
    "arbres.shape"
   ]
  },
  {
   "cell_type": "code",
   "execution_count": null,
   "metadata": {},
   "outputs": [],
   "source": [
    "arbres.info()"
   ]
  },
  {
   "cell_type": "code",
   "execution_count": null,
   "metadata": {},
   "outputs": [],
   "source": [
    "arbres.isna().mean()"
   ]
  },
  {
   "cell_type": "code",
   "execution_count": null,
   "metadata": {},
   "outputs": [],
   "source": [
    "msn.matrix(arbres)"
   ]
  },
  {
   "cell_type": "code",
   "execution_count": null,
   "metadata": {},
   "outputs": [],
   "source": [
    "arbres = arbres.drop(columns=\"numero\")"
   ]
  },
  {
   "cell_type": "code",
   "execution_count": null,
   "metadata": {},
   "outputs": [],
   "source": [
    "msn.matrix(arbres)"
   ]
  },
  {
   "cell_type": "code",
   "execution_count": null,
   "metadata": {},
   "outputs": [],
   "source": [
    "dict(arbres.dtypes)"
   ]
  },
  {
   "cell_type": "code",
   "execution_count": null,
   "metadata": {},
   "outputs": [],
   "source": [
    "def select_quantitative(df):\n",
    "    \"\"\"fonction qui permet de sélectionner les variables quantitatives\"\"\"\n",
    "    dict_type = dict(df.dtypes)\n",
    "    quant_cols = [key for key, value in dict_type.items() if value in [\"float64\", \"int64\", \"float32\", \"int32\"]]\n",
    "    return quant_cols"
   ]
  },
  {
   "cell_type": "code",
   "execution_count": null,
   "metadata": {},
   "outputs": [],
   "source": [
    "cols_quant = select_quantitative(arbres)\n",
    "cols_quant"
   ]
  },
  {
   "cell_type": "code",
   "execution_count": null,
   "metadata": {},
   "outputs": [],
   "source": [
    "def select_object(df):\n",
    "    \"\"\"fonction qui permet de sélectionner les variables catégorielles\"\"\"\n",
    "    dict_type = dict(df.dtypes)\n",
    "    cols = [key for key, value in dict_type.items() if value not in [\"float64\", \"int64\", \"float32\", \"int32\"]]\n",
    "    return cols"
   ]
  },
  {
   "cell_type": "code",
   "execution_count": null,
   "metadata": {},
   "outputs": [],
   "source": [
    "cols_object = select_object(arbres)\n",
    "cols_object"
   ]
  },
  {
   "cell_type": "code",
   "execution_count": null,
   "metadata": {},
   "outputs": [],
   "source": [
    "for col in cols_object:\n",
    "    arbres[col] = arbres[col].astype(\"string\")\n",
    "arbres.info()"
   ]
  },
  {
   "cell_type": "code",
   "execution_count": null,
   "metadata": {},
   "outputs": [],
   "source": [
    "arbres = arbres.applymap(lambda s:s.upper() if type(s) == str else s)\n",
    "arbres.head()"
   ]
  },
  {
   "cell_type": "code",
   "execution_count": null,
   "metadata": {},
   "outputs": [],
   "source": [
    "arbres[\"circonference_cm\"] /= 100"
   ]
  },
  {
   "cell_type": "code",
   "execution_count": null,
   "metadata": {},
   "outputs": [],
   "source": [
    "arbres = arbres.rename(columns={\"circonference_cm\": \"circonference_m\"})"
   ]
  },
  {
   "cell_type": "code",
   "execution_count": null,
   "metadata": {},
   "outputs": [],
   "source": [
    "arbres.info()"
   ]
  },
  {
   "cell_type": "code",
   "execution_count": null,
   "metadata": {},
   "outputs": [],
   "source": [
    "arbres.describe(include=\"all\")"
   ]
  },
  {
   "cell_type": "code",
   "execution_count": null,
   "metadata": {},
   "outputs": [],
   "source": [
    "#traitement des outliers\n",
    "arbres_tri = arbres[(arbres[\"hauteur_m\"]< 40) & (arbres[\"circonference_m\"] < 20)].reset_index(drop=True)\n"
   ]
  },
  {
   "cell_type": "code",
   "execution_count": null,
   "metadata": {},
   "outputs": [],
   "source": [
    "arbres_tri.shape"
   ]
  },
  {
   "cell_type": "code",
   "execution_count": null,
   "metadata": {},
   "outputs": [],
   "source": [
    "arbres_tri.info()"
   ]
  },
  {
   "cell_type": "code",
   "execution_count": null,
   "metadata": {},
   "outputs": [],
   "source": [
    "msn.matrix(arbres_tri)"
   ]
  },
  {
   "cell_type": "markdown",
   "metadata": {},
   "source": [
    "8. Avec Plotly Express, tracer la taille des arbres en fonction du diamètre, couleur va être par espèce\n",
    "9. Faire un bar plot par arrondissement de la taille des arbres et pareil avec le diamètre\n",
    "10. Faire un pie chart avec plotly sur les espèces arbres (top 10)\n",
    "11. Faire un sunburst sur la hauteur des arbres, arrondissement et les top 10 des espèces (filtrer le jeu de données)\n",
    "12. Tracer des violinplots sur les distributions des diamètres et des hauteurs\n",
    "13. Tracer une carte choroplèthe sur la taille des arbres par arrondissement (folium)"
   ]
  },
  {
   "cell_type": "code",
   "execution_count": null,
   "metadata": {},
   "outputs": [],
   "source": [
    "arbres_tri[\"genre\"] = arbres_tri[\"genre\"].fillna(value=\"UNKNOWN\")"
   ]
  },
  {
   "cell_type": "code",
   "execution_count": null,
   "metadata": {},
   "outputs": [],
   "source": [
    "px.scatter(arbres_tri,\n",
    "          x=\"hauteur_m\",\n",
    "          y=\"circonference_m\",\n",
    "          color=\"genre\")"
   ]
  },
  {
   "cell_type": "markdown",
   "metadata": {},
   "source": [
    "9. Faire un bar plot par arrondissement de la taille des arbres et pareil avec le diamètre\n",
    "10. Faire un pie chart avec plotly sur les espèces arbres (top 10)\n",
    "11. Faire un sunburst sur la hauteur des arbres, arrondissement et les top 10 des espèces (filtrer le jeu de données)\n",
    "12. Tracer des violinplots sur les distributions des diamètres et des hauteurs\n",
    "13. Tracer une carte choroplèthe sur la taille des arbres par arrondissement (folium)"
   ]
  },
  {
   "cell_type": "code",
   "execution_count": null,
   "metadata": {},
   "outputs": [],
   "source": [
    "sns.boxenplot(data=arbres_tri, \n",
    "             x=\"circonference_m\",\n",
    "             scale=\"linear\")"
   ]
  },
  {
   "cell_type": "code",
   "execution_count": null,
   "metadata": {},
   "outputs": [],
   "source": [
    "sns.boxenplot(data=arbres_tri, \n",
    "             x=\"hauteur_m\",\n",
    "             scale=\"linear\")"
   ]
  },
  {
   "cell_type": "code",
   "execution_count": null,
   "metadata": {},
   "outputs": [],
   "source": [
    "arbres_tri[\"remarquable\"] = arbres_tri[\"remarquable\"].fillna(value=0).astype(int)\n",
    "msn.matrix(arbres_tri)"
   ]
  },
  {
   "cell_type": "code",
   "execution_count": null,
   "metadata": {},
   "outputs": [],
   "source": [
    "arbres_tri[\"remarquable\"].nunique()"
   ]
  },
  {
   "cell_type": "code",
   "execution_count": null,
   "metadata": {},
   "outputs": [],
   "source": [
    "fig = px.bar(arbres_tri,\n",
    "      x=\"arrondissement\",\n",
    "      y=\"circonference_m\")\n",
    "fig.update_layout(plot_bgcolor=\"white\")\n",
    "fig.show()"
   ]
  },
  {
   "cell_type": "markdown",
   "metadata": {},
   "source": [
    "10. Faire un pie chart avec plotly sur les espèces arbres (top 10)\n",
    "11. Faire un sunburst sur la hauteur des arbres, arrondissement et les top 10 des espèces (filtrer le jeu de données)\n",
    "12. Tracer des violinplots sur les distributions des diamètres et des hauteurs\n",
    "13. Tracer une carte choroplèthe sur la taille des arbres par arrondissement (folium)"
   ]
  },
  {
   "cell_type": "code",
   "execution_count": null,
   "metadata": {},
   "outputs": [],
   "source": [
    "top_10_genre = arbres_tri[\"genre\"].value_counts(ascending=False).reset_index()\n",
    "top_10 = top_10_genre.loc[:10, \"index\"].values\n",
    "print(top_10)"
   ]
  },
  {
   "cell_type": "code",
   "execution_count": null,
   "metadata": {},
   "outputs": [],
   "source": [
    "px.pie(top_10_genre[:10], values=\"genre\", names=\"index\")"
   ]
  },
  {
   "cell_type": "markdown",
   "metadata": {},
   "source": [
    "10.Faire un sunburst sur la hauteur des arbres, arrondissement et les top 10 des espèces (filtrer le jeu de données)\n",
    "11.Tracer des violinplots sur les distributions des diamètres et des hauteurs\n",
    "12.Tracer une carte choroplèthe sur la taille des arbres par arrondissement (folium)"
   ]
  },
  {
   "cell_type": "code",
   "execution_count": null,
   "metadata": {},
   "outputs": [],
   "source": [
    "top_10_arbre = arbres_tri[arbres_tri[\"genre\"].isin(top_10)]\n",
    "top_10_arbre.head()                          "
   ]
  },
  {
   "cell_type": "code",
   "execution_count": null,
   "metadata": {},
   "outputs": [],
   "source": [
    "msn.matrix(top_10_arbre)"
   ]
  },
  {
   "cell_type": "code",
   "execution_count": null,
   "metadata": {},
   "outputs": [],
   "source": [
    "px.sunburst(top_10_arbre, \n",
    "            values=\"hauteur_m\", \n",
    "            path=[\"genre\", \"arrondissement\"])"
   ]
  },
  {
   "cell_type": "code",
   "execution_count": null,
   "metadata": {},
   "outputs": [],
   "source": [
    "px.sunburst(top_10_arbre, \n",
    "            values=\"hauteur_m\", \n",
    "            path=[\"domanialite\", \"arrondissement\"])"
   ]
  },
  {
   "cell_type": "code",
   "execution_count": null,
   "metadata": {},
   "outputs": [],
   "source": [
    "px.violin(top_10_arbre, x=\"domanialite\", y=\"circonference_m\")"
   ]
  },
  {
   "cell_type": "code",
   "execution_count": null,
   "metadata": {},
   "outputs": [],
   "source": [
    "px.violin(top_10_arbre, x=\"domanialite\", y=\"hauteur_m\")"
   ]
  },
  {
   "cell_type": "code",
   "execution_count": null,
   "metadata": {},
   "outputs": [],
   "source": [
    "import json"
   ]
  },
  {
   "cell_type": "code",
   "execution_count": null,
   "metadata": {},
   "outputs": [],
   "source": [
    "geo = json.load(open(\"data/arrondissements.geojson\"))"
   ]
  },
  {
   "cell_type": "code",
   "execution_count": null,
   "metadata": {},
   "outputs": [],
   "source": [
    "geo"
   ]
  },
  {
   "cell_type": "code",
   "execution_count": null,
   "metadata": {},
   "outputs": [],
   "source": [
    "arbres_tri[\"arrondissement\"].unique()"
   ]
  },
  {
   "cell_type": "code",
   "execution_count": null,
   "metadata": {},
   "outputs": [],
   "source": [
    "arr_paris = [str(arr) for arr in arbres_tri[\"arrondissement\"].unique() if \"PARIS\" in str(arr)]\n",
    "print(arr_paris)"
   ]
  },
  {
   "cell_type": "code",
   "execution_count": null,
   "metadata": {},
   "outputs": [],
   "source": [
    "import re"
   ]
  },
  {
   "cell_type": "code",
   "execution_count": null,
   "metadata": {},
   "outputs": [],
   "source": [
    "re.sub(r\"\\D\",\"\", 'PARIS 7E ARRDT')"
   ]
  },
  {
   "cell_type": "code",
   "execution_count": null,
   "metadata": {},
   "outputs": [],
   "source": [
    "arbres_paris = arbres_tri[arbres_tri[\"arrondissement\"].isin(arr_paris)]\n",
    "arbres_paris.shape"
   ]
  },
  {
   "cell_type": "code",
   "execution_count": null,
   "metadata": {},
   "outputs": [],
   "source": [
    "arbres_tri[\"arrondissement_num\"] = arbres_paris[\"arrondissement\"].str.replace(r\"\\D\", \"\", regex=True)\n",
    "arbres_tri[\"arrondissement_num\"].unique()"
   ]
  },
  {
   "cell_type": "code",
   "execution_count": null,
   "metadata": {},
   "outputs": [],
   "source": [
    "arbres_map = arbres_tri.groupby(['arrondissement_num']).mean().reset_index()"
   ]
  },
  {
   "cell_type": "code",
   "execution_count": null,
   "metadata": {},
   "outputs": [],
   "source": [
    "arbres_map.head()"
   ]
  },
  {
   "cell_type": "code",
   "execution_count": null,
   "metadata": {},
   "outputs": [],
   "source": [
    "fig = px.choropleth(arbres_map,\n",
    "             geojson=geo,\n",
    "              locations=\"arrondissement_num\",\n",
    "              featureidkey=\"properties.c_ar\",\n",
    "             color=\"circonference_m\",\n",
    "             hover_name=\"arrondissement_num\",\n",
    "             range_color = (0, 2),\n",
    "             projection=\"mercator\",\n",
    "             color_continuous_scale=px.colors.sequential.Plasma)\n",
    "fig.update_geos(fitbounds=\"locations\", visible=True)\n",
    "fig.show()"
   ]
  },
  {
   "cell_type": "code",
   "execution_count": null,
   "metadata": {},
   "outputs": [],
   "source": [
    "fig = px.choropleth(arbres_map,\n",
    "             geojson=geo,\n",
    "              locations=\"arrondissement_num\",\n",
    "              featureidkey=\"properties.c_ar\",\n",
    "             color=\"hauteur_m\",\n",
    "             hover_name=\"arrondissement_num\",\n",
    "             range_color = (0, 15),\n",
    "             projection=\"mercator\",\n",
    "             color_continuous_scale=px.colors.sequential.Plasma)\n",
    "fig.update_geos(fitbounds=\"locations\", visible=True)\n",
    "fig.show()"
   ]
  }
 ],
 "metadata": {
  "kernelspec": {
   "display_name": "projet2",
   "language": "python",
   "name": "projet2"
  },
  "language_info": {
   "codemirror_mode": {
    "name": "ipython",
    "version": 3
   },
   "file_extension": ".py",
   "mimetype": "text/x-python",
   "name": "python",
   "nbconvert_exporter": "python",
   "pygments_lexer": "ipython3",
   "version": "3.7.0"
  },
  "toc": {
   "base_numbering": 1,
   "nav_menu": {},
   "number_sections": true,
   "sideBar": true,
   "skip_h1_title": false,
   "title_cell": "Table of Contents",
   "title_sidebar": "Contents",
   "toc_cell": false,
   "toc_position": {},
   "toc_section_display": true,
   "toc_window_display": false
  }
 },
 "nbformat": 4,
 "nbformat_minor": 5
}
