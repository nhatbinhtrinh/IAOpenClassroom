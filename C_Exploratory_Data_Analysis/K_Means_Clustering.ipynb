{
 "cells": [
  {
   "cell_type": "markdown",
   "metadata": {},
   "source": [
    "# K-Means Clustering Example"
   ]
  },
  {
   "cell_type": "code",
   "execution_count": 13,
   "metadata": {},
   "outputs": [],
   "source": [
    "import pandas as pd\n",
    "import numpy as np\n",
    "import missingno as msno"
   ]
  },
  {
   "cell_type": "code",
   "execution_count": 2,
   "metadata": {},
   "outputs": [],
   "source": [
    "# import sklearn \n",
    "from sklearn.cluster import KMeans\n",
    "from functions import *"
   ]
  },
  {
   "cell_type": "code",
   "execution_count": 4,
   "metadata": {},
   "outputs": [
    {
     "data": {
      "text/html": [
       "<div>\n",
       "<style scoped>\n",
       "    .dataframe tbody tr th:only-of-type {\n",
       "        vertical-align: middle;\n",
       "    }\n",
       "\n",
       "    .dataframe tbody tr th {\n",
       "        vertical-align: top;\n",
       "    }\n",
       "\n",
       "    .dataframe thead th {\n",
       "        text-align: right;\n",
       "    }\n",
       "</style>\n",
       "<table border=\"1\" class=\"dataframe\">\n",
       "  <thead>\n",
       "    <tr style=\"text-align: right;\">\n",
       "      <th></th>\n",
       "      <th>world_rank</th>\n",
       "      <th>country</th>\n",
       "      <th>teaching</th>\n",
       "      <th>international</th>\n",
       "      <th>research</th>\n",
       "      <th>citations</th>\n",
       "      <th>income</th>\n",
       "      <th>total_score</th>\n",
       "      <th>num_students</th>\n",
       "      <th>student_staff_ratio</th>\n",
       "      <th>international%</th>\n",
       "      <th>female%</th>\n",
       "      <th>male%</th>\n",
       "    </tr>\n",
       "    <tr>\n",
       "      <th>university_name</th>\n",
       "      <th></th>\n",
       "      <th></th>\n",
       "      <th></th>\n",
       "      <th></th>\n",
       "      <th></th>\n",
       "      <th></th>\n",
       "      <th></th>\n",
       "      <th></th>\n",
       "      <th></th>\n",
       "      <th></th>\n",
       "      <th></th>\n",
       "      <th></th>\n",
       "      <th></th>\n",
       "    </tr>\n",
       "  </thead>\n",
       "  <tbody>\n",
       "    <tr>\n",
       "      <th>California Institute of Technology</th>\n",
       "      <td>1</td>\n",
       "      <td>United States of America</td>\n",
       "      <td>95.6</td>\n",
       "      <td>64.0</td>\n",
       "      <td>97.6</td>\n",
       "      <td>99.8</td>\n",
       "      <td>97.8</td>\n",
       "      <td>95.2</td>\n",
       "      <td>2243.0</td>\n",
       "      <td>6.9</td>\n",
       "      <td>27.0</td>\n",
       "      <td>33.0</td>\n",
       "      <td>67.0</td>\n",
       "    </tr>\n",
       "    <tr>\n",
       "      <th>University of Oxford</th>\n",
       "      <td>2</td>\n",
       "      <td>United Kingdom</td>\n",
       "      <td>86.5</td>\n",
       "      <td>94.4</td>\n",
       "      <td>98.9</td>\n",
       "      <td>98.8</td>\n",
       "      <td>73.1</td>\n",
       "      <td>94.2</td>\n",
       "      <td>19919.0</td>\n",
       "      <td>11.6</td>\n",
       "      <td>34.0</td>\n",
       "      <td>46.0</td>\n",
       "      <td>54.0</td>\n",
       "    </tr>\n",
       "    <tr>\n",
       "      <th>Stanford University</th>\n",
       "      <td>3</td>\n",
       "      <td>United States of America</td>\n",
       "      <td>92.5</td>\n",
       "      <td>76.3</td>\n",
       "      <td>96.2</td>\n",
       "      <td>99.9</td>\n",
       "      <td>63.3</td>\n",
       "      <td>93.9</td>\n",
       "      <td>15596.0</td>\n",
       "      <td>7.8</td>\n",
       "      <td>22.0</td>\n",
       "      <td>42.0</td>\n",
       "      <td>58.0</td>\n",
       "    </tr>\n",
       "    <tr>\n",
       "      <th>University of Cambridge</th>\n",
       "      <td>4</td>\n",
       "      <td>United Kingdom</td>\n",
       "      <td>88.2</td>\n",
       "      <td>91.5</td>\n",
       "      <td>96.7</td>\n",
       "      <td>97.0</td>\n",
       "      <td>55.0</td>\n",
       "      <td>92.8</td>\n",
       "      <td>18812.0</td>\n",
       "      <td>11.8</td>\n",
       "      <td>34.0</td>\n",
       "      <td>46.0</td>\n",
       "      <td>54.0</td>\n",
       "    </tr>\n",
       "    <tr>\n",
       "      <th>Massachusetts Institute of Technology</th>\n",
       "      <td>5</td>\n",
       "      <td>United States of America</td>\n",
       "      <td>89.4</td>\n",
       "      <td>84.0</td>\n",
       "      <td>88.6</td>\n",
       "      <td>99.7</td>\n",
       "      <td>95.4</td>\n",
       "      <td>92.0</td>\n",
       "      <td>11074.0</td>\n",
       "      <td>9.0</td>\n",
       "      <td>33.0</td>\n",
       "      <td>37.0</td>\n",
       "      <td>63.0</td>\n",
       "    </tr>\n",
       "  </tbody>\n",
       "</table>\n",
       "</div>"
      ],
      "text/plain": [
       "                                       world_rank                   country  \\\n",
       "university_name                                                               \n",
       "California Institute of Technology              1  United States of America   \n",
       "University of Oxford                            2            United Kingdom   \n",
       "Stanford University                             3  United States of America   \n",
       "University of Cambridge                         4            United Kingdom   \n",
       "Massachusetts Institute of Technology           5  United States of America   \n",
       "\n",
       "                                       teaching  international  research  \\\n",
       "university_name                                                            \n",
       "California Institute of Technology         95.6           64.0      97.6   \n",
       "University of Oxford                       86.5           94.4      98.9   \n",
       "Stanford University                        92.5           76.3      96.2   \n",
       "University of Cambridge                    88.2           91.5      96.7   \n",
       "Massachusetts Institute of Technology      89.4           84.0      88.6   \n",
       "\n",
       "                                       citations  income  total_score  \\\n",
       "university_name                                                         \n",
       "California Institute of Technology          99.8    97.8         95.2   \n",
       "University of Oxford                        98.8    73.1         94.2   \n",
       "Stanford University                         99.9    63.3         93.9   \n",
       "University of Cambridge                     97.0    55.0         92.8   \n",
       "Massachusetts Institute of Technology       99.7    95.4         92.0   \n",
       "\n",
       "                                       num_students  student_staff_ratio  \\\n",
       "university_name                                                            \n",
       "California Institute of Technology           2243.0                  6.9   \n",
       "University of Oxford                        19919.0                 11.6   \n",
       "Stanford University                         15596.0                  7.8   \n",
       "University of Cambridge                     18812.0                 11.8   \n",
       "Massachusetts Institute of Technology       11074.0                  9.0   \n",
       "\n",
       "                                       international%  female%  male%  \n",
       "university_name                                                        \n",
       "California Institute of Technology               27.0     33.0   67.0  \n",
       "University of Oxford                             34.0     46.0   54.0  \n",
       "Stanford University                              22.0     42.0   58.0  \n",
       "University of Cambridge                          34.0     46.0   54.0  \n",
       "Massachusetts Institute of Technology            33.0     37.0   63.0  "
      ]
     },
     "execution_count": 4,
     "metadata": {},
     "output_type": "execute_result"
    }
   ],
   "source": [
    "# load data\n",
    "original_data = pd.read_csv('Data\\world_university_rankings_2016.csv', index_col='university_name')\n",
    "original_data.head()"
   ]
  },
  {
   "cell_type": "code",
   "execution_count": 7,
   "metadata": {},
   "outputs": [
    {
     "data": {
      "text/plain": [
       "(800, 13)"
      ]
     },
     "execution_count": 7,
     "metadata": {},
     "output_type": "execute_result"
    }
   ],
   "source": [
    "original_data.shape"
   ]
  },
  {
   "cell_type": "code",
   "execution_count": 12,
   "metadata": {},
   "outputs": [
    {
     "data": {
      "text/plain": [
       "total_score            0.75000\n",
       "male%                  0.08000\n",
       "female%                0.08000\n",
       "income                 0.04625\n",
       "international%         0.01250\n",
       "student_staff_ratio    0.00875\n",
       "num_students           0.00875\n",
       "citations              0.00000\n",
       "research               0.00000\n",
       "international          0.00000\n",
       "teaching               0.00000\n",
       "country                0.00000\n",
       "world_rank             0.00000\n",
       "dtype: float64"
      ]
     },
     "execution_count": 12,
     "metadata": {},
     "output_type": "execute_result"
    }
   ],
   "source": [
    "original_data.isna().mean().sort_values(ascending = False)"
   ]
  },
  {
   "cell_type": "code",
   "execution_count": 14,
   "metadata": {},
   "outputs": [
    {
     "data": {
      "text/plain": [
       "<matplotlib.axes._subplots.AxesSubplot at 0x1fb5cd3bc50>"
      ]
     },
     "execution_count": 14,
     "metadata": {},
     "output_type": "execute_result"
    },
    {
     "data": {
      "image/png": "[encoded data removed]",
      "text/plain": [
       "<Figure size 1800x720 with 2 Axes>"
      ]
     },
     "metadata": {
      "needs_background": "light"
     },
     "output_type": "display_data"
    }
   ],
   "source": [
    "msno.matrix(original_data)"
   ]
  },
  {
   "cell_type": "code",
   "execution_count": 16,
   "metadata": {},
   "outputs": [
    {
     "data": {
      "text/plain": [
       "0"
      ]
     },
     "execution_count": 16,
     "metadata": {},
     "output_type": "execute_result"
    }
   ],
   "source": [
    "original_data.duplicated().sum()"
   ]
  },
  {
   "cell_type": "code",
   "execution_count": 17,
   "metadata": {},
   "outputs": [
    {
     "data": {
      "text/plain": [
       "Index(['world_rank', 'country', 'teaching', 'international', 'research',\n",
       "       'citations', 'income', 'total_score', 'num_students',\n",
       "       'student_staff_ratio', 'international%', 'female%', 'male%'],\n",
       "      dtype='object')"
      ]
     },
     "execution_count": 17,
     "metadata": {},
     "output_type": "execute_result"
    }
   ],
   "source": [
    "original_data.columns"
   ]
  },
  {
   "cell_type": "code",
   "execution_count": 22,
   "metadata": {},
   "outputs": [
    {
     "data": {
      "text/html": [
       "<div>\n",
       "<style scoped>\n",
       "    .dataframe tbody tr th:only-of-type {\n",
       "        vertical-align: middle;\n",
       "    }\n",
       "\n",
       "    .dataframe tbody tr th {\n",
       "        vertical-align: top;\n",
       "    }\n",
       "\n",
       "    .dataframe thead th {\n",
       "        text-align: right;\n",
       "    }\n",
       "</style>\n",
       "<table border=\"1\" class=\"dataframe\">\n",
       "  <thead>\n",
       "    <tr style=\"text-align: right;\">\n",
       "      <th></th>\n",
       "      <th>teaching</th>\n",
       "      <th>international</th>\n",
       "      <th>research</th>\n",
       "      <th>citations</th>\n",
       "      <th>income</th>\n",
       "      <th>num_students</th>\n",
       "      <th>student_staff_ratio</th>\n",
       "      <th>international%</th>\n",
       "      <th>female%</th>\n",
       "      <th>male%</th>\n",
       "    </tr>\n",
       "  </thead>\n",
       "  <tbody>\n",
       "    <tr>\n",
       "      <th>count</th>\n",
       "      <td>800.0000</td>\n",
       "      <td>800.000000</td>\n",
       "      <td>800.000000</td>\n",
       "      <td>800.00000</td>\n",
       "      <td>763.000000</td>\n",
       "      <td>793.000000</td>\n",
       "      <td>793.000000</td>\n",
       "      <td>790.000000</td>\n",
       "      <td>736.000000</td>\n",
       "      <td>736.000000</td>\n",
       "    </tr>\n",
       "    <tr>\n",
       "      <th>mean</th>\n",
       "      <td>31.5840</td>\n",
       "      <td>48.500375</td>\n",
       "      <td>28.128625</td>\n",
       "      <td>51.30975</td>\n",
       "      <td>46.869594</td>\n",
       "      <td>24161.264817</td>\n",
       "      <td>19.116393</td>\n",
       "      <td>12.702532</td>\n",
       "      <td>49.538043</td>\n",
       "      <td>50.461957</td>\n",
       "    </tr>\n",
       "    <tr>\n",
       "      <th>std</th>\n",
       "      <td>14.9854</td>\n",
       "      <td>23.690816</td>\n",
       "      <td>19.532270</td>\n",
       "      <td>27.04544</td>\n",
       "      <td>20.576165</td>\n",
       "      <td>22569.224842</td>\n",
       "      <td>12.522003</td>\n",
       "      <td>10.676075</td>\n",
       "      <td>11.962238</td>\n",
       "      <td>11.962238</td>\n",
       "    </tr>\n",
       "    <tr>\n",
       "      <th>min</th>\n",
       "      <td>9.9000</td>\n",
       "      <td>7.100000</td>\n",
       "      <td>2.900000</td>\n",
       "      <td>1.20000</td>\n",
       "      <td>28.000000</td>\n",
       "      <td>462.000000</td>\n",
       "      <td>0.600000</td>\n",
       "      <td>0.000000</td>\n",
       "      <td>1.000000</td>\n",
       "      <td>0.000000</td>\n",
       "    </tr>\n",
       "    <tr>\n",
       "      <th>25%</th>\n",
       "      <td>21.0000</td>\n",
       "      <td>29.450000</td>\n",
       "      <td>14.350000</td>\n",
       "      <td>27.52500</td>\n",
       "      <td>31.600000</td>\n",
       "      <td>12331.000000</td>\n",
       "      <td>12.300000</td>\n",
       "      <td>5.000000</td>\n",
       "      <td>45.000000</td>\n",
       "      <td>43.000000</td>\n",
       "    </tr>\n",
       "    <tr>\n",
       "      <th>50%</th>\n",
       "      <td>27.0000</td>\n",
       "      <td>45.700000</td>\n",
       "      <td>22.100000</td>\n",
       "      <td>50.30000</td>\n",
       "      <td>38.600000</td>\n",
       "      <td>20174.000000</td>\n",
       "      <td>16.600000</td>\n",
       "      <td>10.000000</td>\n",
       "      <td>52.000000</td>\n",
       "      <td>48.000000</td>\n",
       "    </tr>\n",
       "    <tr>\n",
       "      <th>75%</th>\n",
       "      <td>37.5000</td>\n",
       "      <td>65.450000</td>\n",
       "      <td>35.525000</td>\n",
       "      <td>74.90000</td>\n",
       "      <td>55.250000</td>\n",
       "      <td>29700.000000</td>\n",
       "      <td>22.400000</td>\n",
       "      <td>18.000000</td>\n",
       "      <td>57.000000</td>\n",
       "      <td>55.000000</td>\n",
       "    </tr>\n",
       "    <tr>\n",
       "      <th>max</th>\n",
       "      <td>95.6000</td>\n",
       "      <td>99.900000</td>\n",
       "      <td>99.000000</td>\n",
       "      <td>100.00000</td>\n",
       "      <td>100.000000</td>\n",
       "      <td>379231.000000</td>\n",
       "      <td>162.600000</td>\n",
       "      <td>82.000000</td>\n",
       "      <td>100.000000</td>\n",
       "      <td>99.000000</td>\n",
       "    </tr>\n",
       "  </tbody>\n",
       "</table>\n",
       "</div>"
      ],
      "text/plain": [
       "       teaching  international    research  citations      income  \\\n",
       "count  800.0000     800.000000  800.000000  800.00000  763.000000   \n",
       "mean    31.5840      48.500375   28.128625   51.30975   46.869594   \n",
       "std     14.9854      23.690816   19.532270   27.04544   20.576165   \n",
       "min      9.9000       7.100000    2.900000    1.20000   28.000000   \n",
       "25%     21.0000      29.450000   14.350000   27.52500   31.600000   \n",
       "50%     27.0000      45.700000   22.100000   50.30000   38.600000   \n",
       "75%     37.5000      65.450000   35.525000   74.90000   55.250000   \n",
       "max     95.6000      99.900000   99.000000  100.00000  100.000000   \n",
       "\n",
       "        num_students  student_staff_ratio  international%     female%  \\\n",
       "count     793.000000           793.000000      790.000000  736.000000   \n",
       "mean    24161.264817            19.116393       12.702532   49.538043   \n",
       "std     22569.224842            12.522003       10.676075   11.962238   \n",
       "min       462.000000             0.600000        0.000000    1.000000   \n",
       "25%     12331.000000            12.300000        5.000000   45.000000   \n",
       "50%     20174.000000            16.600000       10.000000   52.000000   \n",
       "75%     29700.000000            22.400000       18.000000   57.000000   \n",
       "max    379231.000000           162.600000       82.000000  100.000000   \n",
       "\n",
       "            male%  \n",
       "count  736.000000  \n",
       "mean    50.461957  \n",
       "std     11.962238  \n",
       "min      0.000000  \n",
       "25%     43.000000  \n",
       "50%     48.000000  \n",
       "75%     55.000000  \n",
       "max     99.000000  "
      ]
     },
     "execution_count": 22,
     "metadata": {},
     "output_type": "execute_result"
    }
   ],
   "source": [
    "X = original_data[['teaching', 'international', 'research','citations', 'income', 'num_students',\n",
    "       'student_staff_ratio', 'international%', 'female%', 'male%']]\n",
    "X.describe()"
   ]
  },
  {
   "cell_type": "code",
   "execution_count": 24,
   "metadata": {},
   "outputs": [
    {
     "data": {
      "text/plain": [
       "<matplotlib.axes._subplots.AxesSubplot at 0x1fb5d053ef0>"
      ]
     },
     "execution_count": 24,
     "metadata": {},
     "output_type": "execute_result"
    },
    {
     "data": {
      "image/png": "[encoded data removed]",
      "text/plain": [
       "<Figure size 1800x720 with 2 Axes>"
      ]
     },
     "metadata": {
      "needs_background": "light"
     },
     "output_type": "display_data"
    }
   ],
   "source": [
    "msno.matrix(X)"
   ]
  },
  {
   "cell_type": "markdown",
   "metadata": {},
   "source": [
    "X = X.fillna(X.mean())\n",
    "msno.matrix(X)"
   ]
  },
  {
   "cell_type": "markdown",
   "metadata": {},
   "source": [
    "## standard scaler"
   ]
  },
  {
   "cell_type": "code",
   "execution_count": 28,
   "metadata": {},
   "outputs": [],
   "source": [
    "from sklearn.preprocessing import StandardScaler\n",
    "\n",
    "scale = StandardScaler()\n",
    "X_scaled = scale.fit_transform(X)"
   ]
  },
  {
   "cell_type": "markdown",
   "metadata": {},
   "source": [
    "## Performing a K-means Clustering"
   ]
  },
  {
   "cell_type": "code",
   "execution_count": 29,
   "metadata": {},
   "outputs": [],
   "source": [
    "kmeans = KMeans(init='random', n_clusters=3,n_init=10)\n",
    "kmeans.fit(X_scaled)\n",
    "clusters =  kmeans.predict(X_scaled)"
   ]
  },
  {
   "cell_type": "code",
   "execution_count": 30,
   "metadata": {},
   "outputs": [
    {
     "data": {
      "text/html": [
       "<div>\n",
       "<style scoped>\n",
       "    .dataframe tbody tr th:only-of-type {\n",
       "        vertical-align: middle;\n",
       "    }\n",
       "\n",
       "    .dataframe tbody tr th {\n",
       "        vertical-align: top;\n",
       "    }\n",
       "\n",
       "    .dataframe thead th {\n",
       "        text-align: right;\n",
       "    }\n",
       "</style>\n",
       "<table border=\"1\" class=\"dataframe\">\n",
       "  <thead>\n",
       "    <tr style=\"text-align: right;\">\n",
       "      <th></th>\n",
       "      <th>teaching</th>\n",
       "      <th>international</th>\n",
       "      <th>research</th>\n",
       "      <th>citations</th>\n",
       "      <th>income</th>\n",
       "      <th>num_students</th>\n",
       "      <th>student_staff_ratio</th>\n",
       "      <th>international%</th>\n",
       "      <th>female%</th>\n",
       "      <th>male%</th>\n",
       "      <th>cluster</th>\n",
       "    </tr>\n",
       "    <tr>\n",
       "      <th>university_name</th>\n",
       "      <th></th>\n",
       "      <th></th>\n",
       "      <th></th>\n",
       "      <th></th>\n",
       "      <th></th>\n",
       "      <th></th>\n",
       "      <th></th>\n",
       "      <th></th>\n",
       "      <th></th>\n",
       "      <th></th>\n",
       "      <th></th>\n",
       "    </tr>\n",
       "  </thead>\n",
       "  <tbody>\n",
       "    <tr>\n",
       "      <th>California Institute of Technology</th>\n",
       "      <td>4.274564</td>\n",
       "      <td>0.654655</td>\n",
       "      <td>3.558974</td>\n",
       "      <td>1.794039</td>\n",
       "      <td>2.536181</td>\n",
       "      <td>-0.976050</td>\n",
       "      <td>-0.980509</td>\n",
       "      <td>1.348510</td>\n",
       "      <td>-1.442358</td>\n",
       "      <td>1.442358</td>\n",
       "      <td>0</td>\n",
       "    </tr>\n",
       "    <tr>\n",
       "      <th>University of Oxford</th>\n",
       "      <td>3.666926</td>\n",
       "      <td>1.938656</td>\n",
       "      <td>3.625572</td>\n",
       "      <td>1.757041</td>\n",
       "      <td>1.306195</td>\n",
       "      <td>-0.188914</td>\n",
       "      <td>-0.603279</td>\n",
       "      <td>2.008736</td>\n",
       "      <td>-0.308569</td>\n",
       "      <td>0.308569</td>\n",
       "      <td>0</td>\n",
       "    </tr>\n",
       "    <tr>\n",
       "      <th>Stanford University</th>\n",
       "      <td>4.067566</td>\n",
       "      <td>1.174169</td>\n",
       "      <td>3.487253</td>\n",
       "      <td>1.797739</td>\n",
       "      <td>0.818185</td>\n",
       "      <td>-0.381423</td>\n",
       "      <td>-0.908273</td>\n",
       "      <td>0.876919</td>\n",
       "      <td>-0.657427</td>\n",
       "      <td>0.657427</td>\n",
       "      <td>0</td>\n",
       "    </tr>\n",
       "    <tr>\n",
       "      <th>University of Cambridge</th>\n",
       "      <td>3.780441</td>\n",
       "      <td>1.816169</td>\n",
       "      <td>3.512867</td>\n",
       "      <td>1.690445</td>\n",
       "      <td>0.404870</td>\n",
       "      <td>-0.238210</td>\n",
       "      <td>-0.587226</td>\n",
       "      <td>2.008736</td>\n",
       "      <td>-0.308569</td>\n",
       "      <td>0.308569</td>\n",
       "      <td>0</td>\n",
       "    </tr>\n",
       "    <tr>\n",
       "      <th>Massachusetts Institute of Technology</th>\n",
       "      <td>3.860569</td>\n",
       "      <td>1.499393</td>\n",
       "      <td>3.097910</td>\n",
       "      <td>1.790340</td>\n",
       "      <td>2.416668</td>\n",
       "      <td>-0.582793</td>\n",
       "      <td>-0.811959</td>\n",
       "      <td>1.914418</td>\n",
       "      <td>-1.093500</td>\n",
       "      <td>1.093500</td>\n",
       "      <td>0</td>\n",
       "    </tr>\n",
       "  </tbody>\n",
       "</table>\n",
       "</div>"
      ],
      "text/plain": [
       "                                       teaching  international  research  \\\n",
       "university_name                                                            \n",
       "California Institute of Technology     4.274564       0.654655  3.558974   \n",
       "University of Oxford                   3.666926       1.938656  3.625572   \n",
       "Stanford University                    4.067566       1.174169  3.487253   \n",
       "University of Cambridge                3.780441       1.816169  3.512867   \n",
       "Massachusetts Institute of Technology  3.860569       1.499393  3.097910   \n",
       "\n",
       "                                       citations    income  num_students  \\\n",
       "university_name                                                            \n",
       "California Institute of Technology      1.794039  2.536181     -0.976050   \n",
       "University of Oxford                    1.757041  1.306195     -0.188914   \n",
       "Stanford University                     1.797739  0.818185     -0.381423   \n",
       "University of Cambridge                 1.690445  0.404870     -0.238210   \n",
       "Massachusetts Institute of Technology   1.790340  2.416668     -0.582793   \n",
       "\n",
       "                                       student_staff_ratio  international%  \\\n",
       "university_name                                                              \n",
       "California Institute of Technology               -0.980509        1.348510   \n",
       "University of Oxford                             -0.603279        2.008736   \n",
       "Stanford University                              -0.908273        0.876919   \n",
       "University of Cambridge                          -0.587226        2.008736   \n",
       "Massachusetts Institute of Technology            -0.811959        1.914418   \n",
       "\n",
       "                                        female%     male%  cluster  \n",
       "university_name                                                     \n",
       "California Institute of Technology    -1.442358  1.442358        0  \n",
       "University of Oxford                  -0.308569  0.308569        0  \n",
       "Stanford University                   -0.657427  0.657427        0  \n",
       "University of Cambridge               -0.308569  0.308569        0  \n",
       "Massachusetts Institute of Technology -1.093500  1.093500        0  "
      ]
     },
     "execution_count": 30,
     "metadata": {},
     "output_type": "execute_result"
    }
   ],
   "source": [
    "# Add cluster number to the original data\n",
    "X_scaled_clustered = pd.DataFrame(X_scaled, columns=X.columns, index=X.index)\n",
    "X_scaled_clustered['cluster'] = clusters\n",
    "\n",
    "X_scaled_clustered.head()"
   ]
  },
  {
   "cell_type": "code",
   "execution_count": 31,
   "metadata": {},
   "outputs": [
    {
     "data": {
      "image/png": "[encoded data removed]",
      "text/plain": [
       "<Figure size 432x288 with 1 Axes>"
      ]
     },
     "metadata": {
      "needs_background": "light"
     },
     "output_type": "display_data"
    }
   ],
   "source": [
    "# Run a number of tests, for 1, 2, ... num_clusters\n",
    "num_clusters = 50\n",
    "kmeans_tests = [KMeans(n_clusters=i, init='random', n_init=10) for i in range(1, num_clusters)]\n",
    "score = [kmeans_tests[i].fit(X_scaled).score(X_scaled) for i in range(len(kmeans_tests))]\n",
    "\n",
    "# Plot the curve\n",
    "plt.plot(range(1, num_clusters),score)\n",
    "plt.xlabel('Number of Clusters')\n",
    "plt.ylabel('Score')\n",
    "plt.title('Elbow Curve')\n",
    "plt.show()"
   ]
  }
 ],
 "metadata": {
  "kernelspec": {
   "display_name": "Python 3",
   "language": "python",
   "name": "python3"
  },
  "language_info": {
   "codemirror_mode": {
    "name": "ipython",
    "version": 3
   },
   "file_extension": ".py",
   "mimetype": "text/x-python",
   "name": "python",
   "nbconvert_exporter": "python",
   "pygments_lexer": "ipython3",
   "version": "3.7.0"
  }
 },
 "nbformat": 4,
 "nbformat_minor": 2
}
